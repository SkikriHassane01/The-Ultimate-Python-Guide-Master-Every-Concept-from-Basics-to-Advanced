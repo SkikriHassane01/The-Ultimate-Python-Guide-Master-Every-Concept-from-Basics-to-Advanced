{
 "cells": [
  {
   "cell_type": "markdown",
   "metadata": {},
   "source": [
    "# Python Programming Guide - Part 2: Control Flow and Data Structures\n",
    "\n",
    "This notebook covers control flow statements and detailed data structure operations in Python."
   ]
  },
  {
   "cell_type": "markdown",
   "metadata": {},
   "source": [
    "### Part 2: Control Flow and Data Structures\n",
    "- [1. Control Statements](#1-control-statements)\n",
    "  - [1.1. If-Else Statements](#11-if-else-statements)\n",
    "  - [1.2. While Loops](#12-while-loops)\n",
    "  - [1.3. For Loops](#13-for-loops)\n",
    "- [2. Lists in Detail](#2-lists-in-detail)\n",
    "  - [2.1. List Operations](#21-list-operations)\n",
    "  - [2.2. List Methods](#22-list-methods)\n",
    "  - [2.3. List Comprehensions](#23-list-comprehensions)\n",
    "- [3. Dictionaries in Detail](#3-dictionaries-in-detail)\n",
    "  - [3.1. Dictionary Operations](#31-dictionary-operations)\n",
    "  - [3.2. Dictionary Methods](#32-dictionary-methods)\n",
    "  - [3.3. Dictionary Comprehensions](#33-dictionary-comprehensions)\n",
    "- [4. Strings in Detail](#4-strings-in-detail)\n",
    "  - [4.1. String Operations](#41-string-operations)\n",
    "  - [4.2. String Methods](#42-string-methods)\n",
    "  - [4.3. String Formatting](#43-string-formatting)"
   ]
  },
  {
   "cell_type": "markdown",
   "metadata": {},
   "source": [
    "## 1. Control Statements"
   ]
  },
  {
   "cell_type": "markdown",
   "metadata": {},
   "source": [
    "### 1.1. If-Else Statements"
   ]
  },
  {
   "cell_type": "code",
   "execution_count": 1,
   "metadata": {},
   "outputs": [
    {
     "name": "stdout",
     "output_type": "stream",
     "text": [
      "You are an adult\n",
      "It's not too hot\n",
      "Grade: C\n",
      "Status: Adult\n"
     ]
    }
   ],
   "source": [
    "# Simple if statement\n",
    "age = 18\n",
    "if age >= 18:\n",
    "    print(\"You are an adult\")\n",
    "\n",
    "# If-else statement\n",
    "temperature = 25\n",
    "if temperature > 30:\n",
    "    print(\"It's hot!\")\n",
    "else:\n",
    "    print(\"It's not too hot\")\n",
    "\n",
    "# If-elif-else statement\n",
    "score = 75\n",
    "if score >= 90:\n",
    "    print(\"Grade: A\")\n",
    "elif score >= 80:\n",
    "    print(\"Grade: B\")\n",
    "elif score >= 70:\n",
    "    print(\"Grade: C\")\n",
    "else:\n",
    "    print(\"Grade: D\")\n",
    "\n",
    "# Ternary operator\n",
    "status = \"Adult\" if age >= 18 else \"Minor\"\n",
    "print(f\"Status: {status}\")"
   ]
  },
  {
   "cell_type": "markdown",
   "metadata": {},
   "source": [
    "### 1.2. While Loops"
   ]
  },
  {
   "cell_type": "code",
   "execution_count": 2,
   "metadata": {},
   "outputs": [
    {
     "name": "stdout",
     "output_type": "stream",
     "text": [
      "Basic while loop:\n",
      "0\n",
      "1\n",
      "2\n",
      "3\n",
      "4\n",
      "\n",
      "Loop with break:\n",
      "0\n",
      "1\n",
      "2\n",
      "3\n",
      "4\n",
      "\n",
      "Loop with continue (skip even numbers):\n",
      "1\n",
      "3\n",
      "5\n",
      "\n",
      "Loop with else:\n",
      "0\n",
      "1\n",
      "2\n",
      "Loop completed successfully\n"
     ]
    }
   ],
   "source": [
    "# Simple while loop\n",
    "print(\"Basic while loop:\")\n",
    "count = 0\n",
    "while count < 5:\n",
    "    print(count)\n",
    "    count += 1\n",
    "\n",
    "# While loop with break\n",
    "print(\"\\nLoop with break:\")\n",
    "counter = 0\n",
    "while True:\n",
    "    if counter >= 5:\n",
    "        break\n",
    "    print(counter)\n",
    "    counter += 1\n",
    "\n",
    "# While loop with continue\n",
    "print(\"\\nLoop with continue (skip even numbers):\")\n",
    "counter = 0\n",
    "while counter < 5:\n",
    "    counter += 1\n",
    "    if counter % 2 == 0:\n",
    "        continue\n",
    "    print(counter)\n",
    "\n",
    "# While loop with else\n",
    "print(\"\\nLoop with else:\")\n",
    "count = 0\n",
    "while count < 3:\n",
    "    print(count)\n",
    "    count += 1\n",
    "else:\n",
    "    print(\"Loop completed successfully\")"
   ]
  },
  {
   "cell_type": "markdown",
   "metadata": {},
   "source": [
    "### 1.3. For Loops"
   ]
  },
  {
   "cell_type": "code",
   "execution_count": 3,
   "metadata": {},
   "outputs": [
    {
     "name": "stdout",
     "output_type": "stream",
     "text": [
      "Range loop:\n",
      "0\n",
      "1\n",
      "2\n",
      "3\n",
      "4\n",
      "\n",
      "List loop:\n",
      "apple\n",
      "banana\n",
      "orange\n",
      "\n",
      "Enumerate:\n",
      "0: apple\n",
      "1: banana\n",
      "2: orange\n",
      "\n",
      "Nested loops:\n",
      "(0, 0)\n",
      "(0, 1)\n",
      "(1, 0)\n",
      "(1, 1)\n",
      "\n",
      "Loop with break and continue:\n",
      "0\n",
      "1\n",
      "3\n"
     ]
    }
   ],
   "source": [
    "# Basic for loop with range\n",
    "print(\"Range loop:\")\n",
    "for i in range(5):\n",
    "    print(i)\n",
    "\n",
    "# Loop through list\n",
    "print(\"\\nList loop:\")\n",
    "fruits = [\"apple\", \"banana\", \"orange\"]\n",
    "for fruit in fruits:\n",
    "    print(fruit)\n",
    "\n",
    "# Enumerate\n",
    "print(\"\\nEnumerate:\")\n",
    "for index, fruit in enumerate(fruits):\n",
    "    print(f\"{index}: {fruit}\")\n",
    "\n",
    "# Nested loops\n",
    "print(\"\\nNested loops:\")\n",
    "for i in range(2):\n",
    "    for j in range(2):\n",
    "        print(f\"({i}, {j})\")\n",
    "\n",
    "# Loop with break and continue\n",
    "print(\"\\nLoop with break and continue:\")\n",
    "for i in range(5):\n",
    "    if i == 2:\n",
    "        continue  # Skip 2\n",
    "    if i == 4:\n",
    "        break    # Stop at 4\n",
    "    print(i)"
   ]
  },
  {
   "cell_type": "markdown",
   "metadata": {},
   "source": [
    "## 2. Lists in Detail"
   ]
  },
  {
   "cell_type": "code",
   "execution_count": 4,
   "metadata": {},
   "outputs": [
    {
     "name": "stdout",
     "output_type": "stream",
     "text": [
      "Original list: [1, 2, 3, 4, 5]\n",
      "First element: 1\n",
      "Last element: 5\n",
      "Slicing: [2, 3, 4]\n",
      "\n",
      "Combined: [1, 2, 3, 4, 5, 6, 7]\n",
      "Doubled: [1, 2, 3, 4, 5, 1, 2, 3, 4, 5]\n",
      "\n",
      "After append: [1, 2, 3, 4, 5, 6]\n",
      "After insert: [0, 1, 2, 3, 4, 5, 6]\n",
      "After remove: [0, 1, 2, 4, 5, 6]\n",
      "Popped: 6\n",
      "After pop: [0, 1, 2, 4, 5]\n"
     ]
    }
   ],
   "source": [
    "# List creation and access\n",
    "numbers = [1, 2, 3, 4, 5]\n",
    "print(\"Original list:\", numbers)\n",
    "print(\"First element:\", numbers[0])\n",
    "print(\"Last element:\", numbers[-1])\n",
    "print(\"Slicing:\", numbers[1:4])\n",
    "\n",
    "# List operations\n",
    "combined = numbers + [6, 7]      # Concatenation\n",
    "doubled = numbers * 2            # Repetition\n",
    "print(\"\\nCombined:\", combined)\n",
    "print(\"Doubled:\", doubled)\n",
    "\n",
    "# List methods\n",
    "numbers.append(6)                # Add to end\n",
    "print(\"\\nAfter append:\", numbers)\n",
    "\n",
    "numbers.insert(0, 0)             # Insert at position\n",
    "print(\"After insert:\", numbers)\n",
    "\n",
    "numbers.remove(3)                # Remove value\n",
    "print(\"After remove:\", numbers)\n",
    "\n",
    "popped = numbers.pop()           # Remove and return last item\n",
    "print(\"Popped:\", popped)\n",
    "print(\"After pop:\", numbers)"
   ]
  },
  {
   "cell_type": "code",
   "execution_count": 8,
   "metadata": {},
   "outputs": [
    {
     "name": "stdout",
     "output_type": "stream",
     "text": [
      "Squares: [0, 1, 4, 9, 16]\n",
      "Even numbers: [0, 2, 4, 6, 8]\n",
      "Matrix:\n",
      "[0, 1]\n",
      "[1, 2]\n",
      "[2, 3]\n"
     ]
    }
   ],
   "source": [
    "# List comprehensions\n",
    "# Simple comprehension\n",
    "squares = [x**2 for x in range(5)]\n",
    "print(\"Squares:\", squares)\n",
    "\n",
    "# Comprehension with condition\n",
    "evens = [x for x in range(10) if x % 2 == 0]\n",
    "print(\"Even numbers:\", evens)\n",
    "\n",
    "# Nested comprehension\n",
    "matrix = [[i+j for j in range(2)] for i in range(3)]\n",
    "print(\"Matrix:\")\n",
    "for row in matrix:\n",
    "    print(row)"
   ]
  },
  {
   "cell_type": "markdown",
   "metadata": {},
   "source": [
    "## 3. Dictionaries in Detail"
   ]
  },
  {
   "cell_type": "code",
   "execution_count": 9,
   "metadata": {},
   "outputs": [
    {
     "name": "stdout",
     "output_type": "stream",
     "text": [
      "Dictionary: {'name': 'John', 'age': 30, 'city': 'New York'}\n",
      "Name: John\n",
      "Age: 30\n",
      "Country: Unknown\n",
      "\n",
      "Updated dictionary: {'name': 'John', 'age': 31, 'city': 'New York', 'email': 'john@example.com'}\n",
      "\n",
      "Keys: ['name', 'age', 'city', 'email']\n",
      "Values: ['John', 31, 'New York', 'john@example.com']\n",
      "Items: [('name', 'John'), ('age', 31), ('city', 'New York'), ('email', 'john@example.com')]\n"
     ]
    }
   ],
   "source": [
    "# Dictionary creation and access\n",
    "person = {\n",
    "    \"name\": \"John\",\n",
    "    \"age\": 30,\n",
    "    \"city\": \"New York\"\n",
    "}\n",
    "\n",
    "print(\"Dictionary:\", person)\n",
    "print(\"Name:\", person[\"name\"])\n",
    "print(\"Age:\", person.get(\"age\"))\n",
    "print(\"Country:\", person.get(\"country\", \"Unknown\"))  # With default value\n",
    "\n",
    "# Modifying dictionaries\n",
    "person[\"email\"] = \"john@example.com\"    # Add new key-value\n",
    "person[\"age\"] = 31                      # Modify existing value\n",
    "print(\"\\nUpdated dictionary:\", person)\n",
    "\n",
    "# Dictionary methods\n",
    "print(\"\\nKeys:\", list(person.keys()))\n",
    "print(\"Values:\", list(person.values()))\n",
    "print(\"Items:\", list(person.items()))"
   ]
  },
  {
   "cell_type": "code",
   "execution_count": 10,
   "metadata": {},
   "outputs": [
    {
     "name": "stdout",
     "output_type": "stream",
     "text": [
      "Squares dictionary: {0: 0, 1: 1, 2: 4, 3: 9, 4: 16}\n",
      "\n",
      "Even squares: {0: 0, 2: 4, 4: 16}\n",
      "\n",
      "Combined from lists: {'a': 1, 'b': 2, 'c': 3}\n"
     ]
    }
   ],
   "source": [
    "# Dictionary comprehensions\n",
    "# Simple comprehension\n",
    "squares = {x: x**2 for x in range(5)}\n",
    "print(\"Squares dictionary:\", squares)\n",
    "\n",
    "# Conditional comprehension\n",
    "evens = {x: x**2 for x in range(5) if x % 2 == 0}\n",
    "print(\"\\nEven squares:\", evens)\n",
    "\n",
    "# Dictionary from two lists\n",
    "keys = ['a', 'b', 'c']\n",
    "values = [1, 2, 3]\n",
    "combined = {k: v for k, v in zip(keys, values)}\n",
    "print(\"\\nCombined from lists:\", combined)"
   ]
  },
  {
   "cell_type": "markdown",
   "metadata": {},
   "source": [
    "## 4. Strings in Detail"
   ]
  },
  {
   "cell_type": "code",
   "execution_count": 17,
   "metadata": {},
   "outputs": [
    {
     "name": "stdout",
     "output_type": "stream",
     "text": [
      "Original string: Hello World\n",
      "Length: 11\n",
      "First character: H\n",
      "Last character: d\n",
      "Slicing: Hello\n",
      "\n",
      "Uppercase: HELLO WORLD\n",
      "Lowercase: hello world\n",
      "Title case: Hello World\n",
      "\n",
      "F-string: John is 30 years old\n",
      "Format method: John is 30 years old\n",
      "Old style: John is 30 years old\n",
      "Pi: 3.14\n",
      "Age: 030\n"
     ]
    }
   ],
   "source": [
    "# String operations\n",
    "text = \"Hello World\"\n",
    "print(\"Original string:\", text)\n",
    "print(\"Length:\", len(text))\n",
    "print(\"First character:\", text[0])\n",
    "print(\"Last character:\", text[-1])\n",
    "print(\"Slicing:\", text[0:5])\n",
    "\n",
    "# String methods\n",
    "print(\"\\nUppercase:\", text.upper())\n",
    "print(\"Lowercase:\", text.lower())\n",
    "print(\"Title case:\", text.title())\n",
    "\n",
    "# String formatting\n",
    "name = \"John\"\n",
    "age = 30\n",
    "\n",
    "# Different formatting methods\n",
    "print(f\"\\nF-string: {name} is {age} years old\")\n",
    "print(\"Format method: {} is {} years old\".format(name, age))\n",
    "print(\"Old style: %s is %d years old\" % (name, age))\n",
    "\n",
    "\n",
    "# Format specifications\n",
    "pi = 3.14159\n",
    "print(f\"Pi: {pi:.2f}\")  # Two decimal places\n",
    "print(f\"Age: {age:03d}\")  # Zero-padded number"
   ]
  },
  {
   "cell_type": "code",
   "execution_count": 15,
   "metadata": {},
   "outputs": [
    {
     "name": "stdout",
     "output_type": "stream",
     "text": [
      "Stripped: Hello, World!\n",
      "Replaced:   Hellx, Wxrld!  \n",
      "Split: ['  Hello', ' World!  ']\n",
      "\n",
      "Find 'World': 9\n",
      "Count 'l': 3\n",
      "Starts with 'Hello': True\n",
      "Ends with '!': True\n"
     ]
    }
   ],
   "source": [
    "# String manipulation\n",
    "text = \"  Hello, World!  \"\n",
    "\n",
    "# Cleaning methods\n",
    "print(\"Stripped:\", text.strip())\n",
    "print(\"Replaced:\", text.replace('o', 'x'))\n",
    "print(\"Split:\", text.split(','))\n",
    "\n",
    "# Search methods\n",
    "print(\"\\nFind 'World':\", text.find('World'))\n",
    "print(\"Count 'l':\", text.count('l'))\n",
    "print(\"Starts with 'Hello':\", text.strip().startswith('Hello'))\n",
    "print(\"Ends with '!':\", text.strip().endswith('!'))"
   ]
  }
 ],
 "metadata": {
  "kernelspec": {
   "display_name": "Python 3",
   "language": "python",
   "name": "python3"
  },
  "language_info": {
   "codemirror_mode": {
    "name": "ipython",
    "version": 3
   },
   "file_extension": ".py",
   "mimetype": "text/x-python",
   "name": "python",
   "nbconvert_exporter": "python",
   "pygments_lexer": "ipython3",
   "version": "3.12.6"
  }
 },
 "nbformat": 4,
 "nbformat_minor": 4
}
