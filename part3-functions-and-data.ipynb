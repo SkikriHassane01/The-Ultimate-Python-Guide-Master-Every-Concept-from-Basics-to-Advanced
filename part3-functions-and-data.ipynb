{
 "cells": [
  {
   "cell_type": "markdown",
   "metadata": {},
   "source": [
    "# Python Programming Guide - Part 3: Functions and Advanced Data Types\n",
    "\n",
    "This notebook covers functions and advanced data structures in Python."
   ]
  },
  {
   "cell_type": "markdown",
   "metadata": {},
   "source": [
    "### Part 3: Functions and Advanced Data Types\n",
    "- [1. Functions](#1-functions)\n",
    "  - [1.1. Function Basics](#11-function-basics)\n",
    "  - [1.2. Function Arguments](#12-function-arguments)\n",
    "  - [1.3. Lambda Functions](#13-lambda-functions)\n",
    "  - [1.4. Generators](#14-generators)\n",
    "  - [1.5. Decorators](#15-decorators)\n",
    "- [2. Sets](#2-sets)\n",
    "  - [2.1. Set Operations](#21-set-operations)\n",
    "  - [2.2. Set Methods](#22-set-methods)\n",
    "  - [2.3. Mathematical Set Operations](#23-mathematical-set-operations)\n",
    "- [3. Tuples](#3-tuples)\n",
    "  - [3.1. Tuple Basics](#31-tuple-basics)\n",
    "  - [3.2. Tuple Operations](#32-tuple-operations)\n",
    "  - [3.3. Tuple Applications](#33-tuple-applications)\n",
    "- [4. File Handling](#4-file-handling)\n",
    "  - [4.1. File Operations](#41-file-operations)\n",
    "  - [4.2. File Methods](#42-file-methods)\n",
    "  - [4.3. Working with CSV Files](#43-working-with-csv-files)"
   ]
  },
  {
   "cell_type": "markdown",
   "metadata": {},
   "source": [
    "## 1. Functions"
   ]
  },
  {
   "cell_type": "markdown",
   "metadata": {},
   "source": [
    "### 1.1. Function Basics"
   ]
  },
  {
   "cell_type": "code",
   "execution_count": 1,
   "metadata": {},
   "outputs": [
    {
     "name": "stdout",
     "output_type": "stream",
     "text": [
      "Hello, Alice!\n",
      "Total: $110.0\n"
     ]
    }
   ],
   "source": [
    "# Basic function definition\n",
    "def greet(name):\n",
    "    \"\"\"Simple greeting function.\"\"\"\n",
    "    return f\"Hello, {name}!\"\n",
    "\n",
    "# Using the function\n",
    "print(greet(\"Alice\"))\n",
    "\n",
    "# Function with multiple parameters\n",
    "def calculate_total(price, tax_rate=0.1):\n",
    "    return price + (price * tax_rate)\n",
    "\n",
    "print(f\"Total: ${calculate_total(100)}\")"
   ]
  },
  {
   "cell_type": "markdown",
   "metadata": {},
   "source": [
    "### 1.2. Function Arguments"
   ]
  },
  {
   "cell_type": "code",
   "execution_count": 1,
   "metadata": {},
   "outputs": [
    {
     "name": "stdout",
     "output_type": "stream",
     "text": [
      "John is 25 years old from New York\n",
      "Alice is 30 years old from Unknown\n",
      "Sum: 15\n"
     ]
    }
   ],
   "source": [
    "# Different types of arguments\n",
    "def display_info(name, age, city=\"Unknown\"):\n",
    "    print(f\"{name} is {age} years old from {city}\")\n",
    "\n",
    "# Positional arguments\n",
    "display_info(\"John\", 25, \"New York\")\n",
    "\n",
    "# Keyword arguments\n",
    "display_info(name=\"Alice\", age=30)\n",
    "\n",
    "# Variable arguments\n",
    "def sum_all(*args):\n",
    "    return sum(args)\n",
    "\n",
    "print(f\"Sum: {sum_all(1, 2, 3, 4, 5)}\")"
   ]
  },
  {
   "cell_type": "markdown",
   "metadata": {},
   "source": [
    "### 1.3. Lambda Functions"
   ]
  },
  {
   "cell_type": "code",
   "execution_count": 13,
   "metadata": {},
   "outputs": [
    {
     "name": "stdout",
     "output_type": "stream",
     "text": [
      "square(3): 9\n",
      "multiply(2, 3): 6\n",
      "Sorted by x: [(1, 2), (2, 4), (3, 1)]\n",
      "Sorted by y: [(3, 1), (1, 2), (2, 4)]\n",
      "Squares: [1, 4, 9, 16, 25]\n",
      "Evens: [2, 4]\n"
     ]
    }
   ],
   "source": [
    "# Simple lambda\n",
    "square = lambda x: x**2\n",
    "print(f\"square(3): {square(3)}\")\n",
    "\n",
    "# Lambda with multiple arguments\n",
    "multiply = lambda x, y: x * y\n",
    "print(f\"multiply(2, 3): {multiply(2, 3)}\")\n",
    "\n",
    "# Lambda in sorted function\n",
    "points = [(1, 2), (3, 1), (2, 4)]\n",
    "sorted_points_1 = sorted(points, key=lambda p: p[0])\n",
    "sorted_points_2 = sorted(points, key=lambda p: p[1])\n",
    "print(f\"Sorted by x: {sorted_points_1}\")\n",
    "print(f\"Sorted by y: {sorted_points_2}\")\n",
    "\n",
    "# Lambda with map and filter\n",
    "numbers = [1, 2, 3, 4, 5]\n",
    "squares = list(map(lambda x: x**2, numbers))\n",
    "evens = list(filter(lambda x: x % 2 == 0, numbers))\n",
    "print(f\"Squares: {squares}\")\n",
    "print(f\"Evens: {evens}\")"
   ]
  },
  {
   "cell_type": "markdown",
   "metadata": {},
   "source": [
    "### 1.4 Generator"
   ]
  },
  {
   "cell_type": "code",
   "execution_count": 17,
   "metadata": {},
   "outputs": [
    {
     "name": "stdout",
     "output_type": "stream",
     "text": [
      "<generator object <genexpr> at 0x000001B4221F35E0>\n",
      "1\n",
      "2\n",
      "3\n",
      "4\n",
      "5\n"
     ]
    }
   ],
   "source": [
    "# Simple generator function\n",
    "def count_up_to(n):\n",
    "    i = 1\n",
    "    while i <= n:\n",
    "        yield i\n",
    "        i += 1\n",
    "\n",
    "# Generator expression\n",
    "squares_gen = (x**2 for x in range(5))\n",
    "print(squares_gen)\n",
    "\n",
    "\n",
    "# Using generators\n",
    "for num in count_up_to(5):\n",
    "    print(num)\n",
    "\n",
    "# Generator with infinite sequence\n",
    "def fibonacci():\n",
    "    a, b = 0, 1\n",
    "    while True:\n",
    "        yield a\n",
    "        a, b = b, a + b"
   ]
  },
  {
   "cell_type": "markdown",
   "metadata": {},
   "source": [
    "### 1.5. Decorators"
   ]
  },
  {
   "cell_type": "code",
   "execution_count": 21,
   "metadata": {},
   "outputs": [
    {
     "name": "stdout",
     "output_type": "stream",
     "text": [
      "Calling add\n",
      "Finished add\n",
      "---------------------------------------------\n",
      "Hello Alice\n",
      "Hello Alice\n",
      "Hello Alice\n"
     ]
    }
   ],
   "source": [
    "# Simple decorator\n",
    "def logged(func):\n",
    "    def wrapper(*args, **kwargs):\n",
    "        print(f\"Calling {func.__name__}\")\n",
    "        result = func(*args, **kwargs)\n",
    "        print(f\"Finished {func.__name__}\")\n",
    "        return result\n",
    "    return wrapper\n",
    "\n",
    "# Decorator with parameters\n",
    "def repeat(times):\n",
    "    def decorator(func):\n",
    "        def wrapper(*args, **kwargs):\n",
    "            for _ in range(times):\n",
    "                result = func(*args, **kwargs)\n",
    "            return result\n",
    "        return wrapper\n",
    "    return decorator\n",
    "\n",
    "# Using decorators\n",
    "@logged\n",
    "def add(x, y):\n",
    "    return x + y\n",
    "\n",
    "add(2, 3)\n",
    "\n",
    "@repeat(3)\n",
    "def greet(name):\n",
    "    print(f\"Hello {name}\")\n",
    "print(\"---------------------------------------------\")\n",
    "greet(\"Alice\")"
   ]
  },
  {
   "cell_type": "markdown",
   "metadata": {},
   "source": [
    "## 2. Sets"
   ]
  },
  {
   "cell_type": "markdown",
   "metadata": {},
   "source": [
    "## 2.1. Set Operations"
   ]
  },
  {
   "cell_type": "code",
   "execution_count": 22,
   "metadata": {},
   "outputs": [
    {
     "name": "stdout",
     "output_type": "stream",
     "text": [
      "1\n",
      "2\n",
      "3\n",
      "4\n",
      "5\n"
     ]
    }
   ],
   "source": [
    "# Creating sets\n",
    "empty_set = set()\n",
    "numbers = {1, 2, 3, 4, 5}\n",
    "from_list = set([1, 2, 2, 3])  # Duplicates removed\n",
    "\n",
    "# Basic operations\n",
    "length = len(numbers)       # Number of elements\n",
    "exists = 2 in numbers      # Membership test\n",
    "for num in numbers:        # Iteration\n",
    "    print(num)"
   ]
  },
  {
   "cell_type": "markdown",
   "metadata": {},
   "source": [
    "## 2.2. Set Methods"
   ]
  },
  {
   "cell_type": "code",
   "execution_count": 24,
   "metadata": {},
   "outputs": [],
   "source": [
    "numbers = {1, 2, 3, 4, 5}\n",
    "# Modifying sets\n",
    "numbers.add(6)              # Add single element\n",
    "numbers.update([7, 8, 9])   # Add multiple elements\n",
    "numbers.remove(1)           # Remove (raises error if not found)\n",
    "numbers.discard(10)         # Remove (no error if not found)\n",
    "popped = numbers.pop()      # Remove and return arbitrary element\n",
    "numbers.clear()             # Remove all elements"
   ]
  },
  {
   "cell_type": "markdown",
   "metadata": {},
   "source": [
    "## 2.3. Mathematical Set Operations\n"
   ]
  },
  {
   "cell_type": "code",
   "execution_count": 31,
   "metadata": {},
   "outputs": [
    {
     "name": "stdout",
     "output_type": "stream",
     "text": [
      "Union 1: {1, 2, 3, 4, 5, 6}\n",
      "Union 2: {1, 2, 3, 4, 5, 6}\n",
      "---------------------------------------------\n",
      "Intersection 1: {3, 4}\n",
      "Intersection 2: {3, 4}\n",
      "---------------------------------------------\n",
      "Difference 1: {1, 2}\n",
      "Difference 2: {1, 2}\n",
      "Difference 3: {5, 6}\n",
      "---------------------------------------------\n",
      "Symmetric difference 1: {1, 2, 5, 6}\n",
      "Symmetric difference 2: {1, 2, 5, 6}\n"
     ]
    }
   ],
   "source": [
    "set1 = {1, 2, 3, 4}\n",
    "set2 = {3, 4, 5, 6}\n",
    "\n",
    "# Union\n",
    "union1 = set1 | set2           # Using operator\n",
    "union2 = set1.union(set2)      # Using method\n",
    "print(f\"Union 1: {union1}\")\n",
    "print(f\"Union 2: {union2}\")\n",
    "print(\"---------------------------------------------\")\n",
    "# Intersection\n",
    "intersect1 = set1 & set2           # Using operator\n",
    "intersect2 = set1.intersection(set2)# Using method\n",
    "print(f\"Intersection 1: {intersect1}\")\n",
    "print(f\"Intersection 2: {intersect2}\")\n",
    "print(\"---------------------------------------------\")\n",
    "# Difference\n",
    "diff1 = set1 - set2               # Using operator\n",
    "diff2 = set1.difference(set2)     # Using method\n",
    "diff3 = set2 - set1\n",
    "print(f\"Difference 1: {diff1}\")\n",
    "print(f\"Difference 2: {diff2}\")\n",
    "print(f\"Difference 3: {diff3}\")\n",
    "print(\"---------------------------------------------\")\n",
    "# Symmetric difference\n",
    "sym_diff1 = set1 ^ set2          # Using operator\n",
    "sym_diff2 = set1.symmetric_difference(set2)\n",
    "print(f\"Symmetric difference 1: {sym_diff1}\")\n",
    "print(f\"Symmetric difference 2: {sym_diff2}\")"
   ]
  },
  {
   "cell_type": "markdown",
   "metadata": {},
   "source": [
    "## 3. Tuples"
   ]
  },
  {
   "cell_type": "markdown",
   "metadata": {},
   "source": [
    "## 3.1. Tuple Basics"
   ]
  },
  {
   "cell_type": "code",
   "execution_count": 32,
   "metadata": {},
   "outputs": [],
   "source": [
    "# Creating tuples\n",
    "empty_tuple = ()\n",
    "single_item = (1,)           # Note the comma\n",
    "coordinates = (3, 4)\n",
    "mixed = (1, \"hello\", 3.14)\n",
    "nested = ((1, 2), (3, 4))\n",
    "\n",
    "# Accessing elements\n",
    "x = coordinates[0]          # First element\n",
    "y = coordinates[1]          # Second element\n",
    "first, second = coordinates # Tuple unpacking"
   ]
  },
  {
   "cell_type": "markdown",
   "metadata": {},
   "source": [
    "## 3.2. Tuple Operations"
   ]
  },
  {
   "cell_type": "code",
   "execution_count": 33,
   "metadata": {},
   "outputs": [],
   "source": [
    "# Basic operations\n",
    "point = (1, 2)\n",
    "point + (3, 4)         # Concatenation: (1, 2, 3, 4)\n",
    "point * 2              # Repetition: (1, 2, 1, 2)\n",
    "3 in point            # Membership test\n",
    "len(point)            # Length\n",
    "\n",
    "# Tuple methods\n",
    "count = point.count(1)     # Count occurrences\n",
    "index = point.index(2)     # Find position"
   ]
  },
  {
   "cell_type": "markdown",
   "metadata": {},
   "source": [
    "## 3.3. Tuple Applications"
   ]
  },
  {
   "cell_type": "code",
   "execution_count": 34,
   "metadata": {},
   "outputs": [
    {
     "name": "stdout",
     "output_type": "stream",
     "text": [
      "3 4\n"
     ]
    }
   ],
   "source": [
    "# Multiple assignment\n",
    "x, y = 10, 20\n",
    "\n",
    "# Returning multiple values from function\n",
    "def get_coordinates():\n",
    "    return (3, 4)\n",
    "\n",
    "x, y = get_coordinates()\n",
    "\n",
    "# As dictionary keys (immutable)\n",
    "locations = {(0, 0): 'origin', (1, 1): 'point'}\n",
    "\n",
    "# Named tuples\n",
    "from collections import namedtuple\n",
    "Point = namedtuple('Point', ['x', 'y'])\n",
    "p = Point(3, 4)\n",
    "print(p.x, p.y)"
   ]
  },
  {
   "cell_type": "markdown",
   "metadata": {},
   "source": [
    "## 4. File Handling"
   ]
  },
  {
   "cell_type": "code",
   "execution_count": 35,
   "metadata": {},
   "outputs": [],
   "source": [
    "# Opening files\n",
    "file = open('example.txt', 'r')  # Read mode\n",
    "file.close()\n",
    "\n",
    "# Using with statement (recommended)\n",
    "with open('example.txt', 'r') as file:\n",
    "    content = file.read()\n",
    "\n",
    "# Writing to files\n",
    "with open('output.txt', 'w') as file:\n",
    "    file.write('Hello World\\n')\n",
    "    file.writelines(['Line 1\\n', 'Line 2\\n'])\n",
    "\n",
    "# Appending to files\n",
    "with open('log.txt', 'a') as file:\n",
    "    file.write('New log entry\\n')"
   ]
  },
  {
   "cell_type": "markdown",
   "metadata": {},
   "source": [
    "## 4.2. File Methods"
   ]
  },
  {
   "cell_type": "code",
   "execution_count": 36,
   "metadata": {},
   "outputs": [],
   "source": [
    "\n",
    "with open('example.txt', 'r') as file:\n",
    "    # Reading methods\n",
    "    content = file.read()        # Read entire file\n",
    "    line = file.readline()       # Read one line\n",
    "    lines = file.readlines()     # Read all lines into list\n",
    "    \n",
    "    # File position\n",
    "    position = file.tell()       # Current position\n",
    "    file.seek(0)                # Move to position\n",
    "    \n",
    "    # File properties\n",
    "    name = file.name            # File name\n",
    "    mode = file.mode           # Access mode\n",
    "    closed = file.closed       # Check if closed"
   ]
  },
  {
   "cell_type": "markdown",
   "metadata": {},
   "source": [
    "## 4.3. Working with CSV Files"
   ]
  },
  {
   "cell_type": "code",
   "execution_count": 43,
   "metadata": {},
   "outputs": [
    {
     "name": "stdout",
     "output_type": "stream",
     "text": [
      "['Name', 'Age', 'Gender']\n",
      "['John', '25', 'Male']\n",
      "John 25\n"
     ]
    }
   ],
   "source": [
    "\n",
    "import csv\n",
    "\n",
    "# Reading CSV\n",
    "with open('data.csv', 'r') as file:\n",
    "    reader = csv.reader(file)\n",
    "    for row in reader:\n",
    "        print(row)\n",
    "\n",
    "# Writing CSV\n",
    "with open('output.csv', 'w', newline='') as file:\n",
    "    writer = csv.writer(file)\n",
    "    writer.writerow(['Name', 'Age'])\n",
    "    writer.writerow(['John', 30])\n",
    "\n",
    "# Using DictReader and DictWriter\n",
    "with open('data.csv', 'r') as file:\n",
    "    reader = csv.DictReader(file)\n",
    "    for row in reader:\n",
    "        print(row['Name'], row['Age'])\n",
    "\n",
    "with open('output.csv', 'w', newline='') as file:\n",
    "    fieldnames = ['Name', 'Age']\n",
    "    writer = csv.DictWriter(file, fieldnames=fieldnames)\n",
    "    writer.writeheader()\n",
    "    writer.writerow({'Name': 'John', 'Age': 30})"
   ]
  }
 ],
 "metadata": {
  "kernelspec": {
   "display_name": "Python 3",
   "language": "python",
   "name": "python3"
  },
  "language_info": {
   "codemirror_mode": {
    "name": "ipython",
    "version": 3
   },
   "file_extension": ".py",
   "mimetype": "text/x-python",
   "name": "python",
   "nbconvert_exporter": "python",
   "pygments_lexer": "ipython3",
   "version": "3.12.6"
  }
 },
 "nbformat": 4,
 "nbformat_minor": 4
}
