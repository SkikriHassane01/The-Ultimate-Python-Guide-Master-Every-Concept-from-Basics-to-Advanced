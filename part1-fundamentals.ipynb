{
 "cells": [
  {
   "cell_type": "markdown",
   "metadata": {},
   "source": [
    "# Python Programming Guide - Part 1: Language Fundamentals\n",
    "\n",
    "This notebook covers the fundamental concepts of Python programming."
   ]
  },
  {
   "cell_type": "markdown",
   "metadata": {},
   "source": [
    "### Part 1: Language Fundamentals\n",
    "- [1. Variables](#1-variables)\n",
    "- [2. Print Function](#2-print-function)\n",
    "- [3. Input from User](#3-input-from-user)\n",
    "- [4. Data Types](#4-data-types)\n",
    "  - [4.1. Numbers](#41-numbers)\n",
    "  - [4.2. Strings](#42-strings)\n",
    "  - [4.3. Lists](#43-lists)\n",
    "  - [4.4. Dictionaries](#44-dictionaries)\n",
    "  - [4.5. Tuples](#45-tuples)\n",
    "  - [4.6. Sets](#46-sets)\n",
    "  - [4.7. Other Types](#47-other-types)\n",
    "- [5. Operators](#5-operators)\n",
    "  - [5.1. Arithmetic Operators](#51-arithmetic-operators)\n",
    "  - [5.2. Relational Operators](#52-relational-operators)\n",
    "  - [5.3. Bitwise Operators](#53-bitwise-operators)\n",
    "  - [5.4. Logical Operators](#54-logical-operators)\n",
    "- [6. Type Conversion](#6-type-conversion)"
   ]
  },
  {
   "cell_type": "markdown",
   "metadata": {},
   "source": [
    "## 1. Variables\n",
    "\n",
    "Variables are containers for storing data values."
   ]
  },
  {
   "cell_type": "code",
   "execution_count": 2,
   "metadata": {},
   "outputs": [
    {
     "name": "stdout",
     "output_type": "stream",
     "text": [
      "Name: John\n",
      "Age: 25\n",
      "Height: 5.9\n",
      "Is student? True\n"
     ]
    }
   ],
   "source": [
    "name = \"John\"              # String variable\n",
    "age = 25                   # Integer variable\n",
    "height = 5.9              # Float variable\n",
    "is_student = True         # Boolean variable\n",
    "\n",
    "print(f\"Name: {name}\")\n",
    "print(f\"Age: {age}\")\n",
    "print(f\"Height: {height}\")\n",
    "print(f\"Is student? {is_student}\")"
   ]
  },
  {
   "cell_type": "markdown",
   "metadata": {},
   "source": [
    "## 2. Print Function\n",
    "\n",
    "The print() function is used to output text or variables."
   ]
  },
  {
   "cell_type": "code",
   "execution_count": 3,
   "metadata": {},
   "outputs": [
    {
     "name": "stdout",
     "output_type": "stream",
     "text": [
      "Hello, World!\n",
      "Name: John\n",
      "Age: 25\n",
      "Height: 5.90 meters\n",
      "Hi John, you are 25 years old\n"
     ]
    }
   ],
   "source": [
    "print(\"Hello, World!\")                     # Simple string\n",
    "print(\"Name:\", name)                       # Print with variable\n",
    "print(f\"Age: {age}\")                       # F-string (Python 3.6+)\n",
    "print(\"Height: %.2f meters\" % height)      # Old-style formatting\n",
    "print(\"Hi {}, you are {} years old\".format(name, age))  # String format"
   ]
  },
  {
   "cell_type": "markdown",
   "metadata": {},
   "source": [
    "**Naming Conventions:**\n",
    "- Must start with a letter or underscore\n",
    "- Can contain letters, numbers, and underscores\n",
    "- Case-sensitive\n",
    "- Cannot use Python keywords"
   ]
  },
  {
   "cell_type": "markdown",
   "metadata": {},
   "source": [
    "## 3. Input from User\n",
    "\n",
    "The input() function allows user interaction."
   ]
  },
  {
   "cell_type": "code",
   "execution_count": 4,
   "metadata": {},
   "outputs": [
    {
     "name": "stdout",
     "output_type": "stream",
     "text": [
      "Hello hassane, you are 22 years old and 184.0 meters tall\n"
     ]
    }
   ],
   "source": [
    "# Note: These cells will pause for user input\n",
    "name = input(\"Enter your name: \")          # Returns string\n",
    "age = int(input(\"Enter your age: \"))       # Convert to integer\n",
    "height = float(input(\"Enter height: \"))    # Convert to float\n",
    "\n",
    "print(f\"Hello {name}, you are {age} years old and {height} meters tall\")"
   ]
  },
  {
   "cell_type": "markdown",
   "metadata": {},
   "source": [
    "## 4. Data Types"
   ]
  },
  {
   "cell_type": "markdown",
   "metadata": {},
   "source": [
    "### 4.1. Numbers"
   ]
  },
  {
   "cell_type": "code",
   "execution_count": 5,
   "metadata": {},
   "outputs": [
    {
     "name": "stdout",
     "output_type": "stream",
     "text": [
      "Integer: 5, type: <class 'int'>\n",
      "Float: 3.14, type: <class 'float'>\n",
      "Complex: (2+3j), type: <class 'complex'>\n"
     ]
    }
   ],
   "source": [
    "x = 5                  # Integer\n",
    "y = 3.14              # Float\n",
    "z = 2 + 3j            # Complex number\n",
    "\n",
    "print(f\"Integer: {x}, type: {type(x)}\")\n",
    "print(f\"Float: {y}, type: {type(y)}\")\n",
    "print(f\"Complex: {z}, type: {type(z)}\")"
   ]
  },
  {
   "cell_type": "markdown",
   "metadata": {},
   "source": [
    "### 4.2. Strings"
   ]
  },
  {
   "cell_type": "code",
   "execution_count": 8,
   "metadata": {},
   "outputs": [
    {
     "name": "stdout",
     "output_type": "stream",
     "text": [
      "HELLO WORLD\n",
      "hello world\n",
      "Hello World\n",
      "H\n",
      "d\n",
      "Hello\n",
      "11\n"
     ]
    }
   ],
   "source": [
    "text = \"Hello World\"\n",
    "# String operations\n",
    "print(text.upper())                # HELLO WORLD\n",
    "print(text.lower())                # hello world\n",
    "print(text.title())                # Hello World\n",
    "print(text[0])                     # H (first character)\n",
    "print(text[-1])                    # d (last character)\n",
    "print(text[0:5])                   # Hello (slicing)\n",
    "print(len(text))                   # 11 (length)"
   ]
  },
  {
   "cell_type": "markdown",
   "metadata": {},
   "source": [
    "### 4.3. Lists"
   ]
  },
  {
   "cell_type": "code",
   "execution_count": 9,
   "metadata": {},
   "outputs": [
    {
     "name": "stdout",
     "output_type": "stream",
     "text": [
      "After append: ['apple', 'banana', 'orange', 'grape']\n",
      "After remove: ['apple', 'orange', 'grape']\n",
      "After sort: ['apple', 'grape', 'orange']\n",
      "First item: apple\n",
      "List length: 3\n"
     ]
    }
   ],
   "source": [
    "fruits = [\"apple\", \"banana\", \"orange\"]\n",
    "# List operations\n",
    "fruits.append(\"grape\")             # Add item\n",
    "print(\"After append:\", fruits)\n",
    "\n",
    "fruits.remove(\"banana\")            # Remove item\n",
    "print(\"After remove:\", fruits)\n",
    "\n",
    "fruits.sort()                      # Sort list\n",
    "print(\"After sort:\", fruits)\n",
    "\n",
    "print(\"First item:\", fruits[0])    # Access item\n",
    "print(\"List length:\", len(fruits)) # List length"
   ]
  },
  {
   "cell_type": "markdown",
   "metadata": {},
   "source": [
    "### 4.4. Dictionaries"
   ]
  },
  {
   "cell_type": "code",
   "execution_count": 10,
   "metadata": {},
   "outputs": [
    {
     "name": "stdout",
     "output_type": "stream",
     "text": [
      "Name: John\n",
      "After adding email: {'name': 'John', 'age': 25, 'city': 'New York', 'email': 'john@email.com'}\n",
      "After deleting age: {'name': 'John', 'city': 'New York', 'email': 'john@email.com'}\n",
      "Keys: dict_keys(['name', 'city', 'email'])\n",
      "Values: dict_values(['John', 'New York', 'john@email.com'])\n"
     ]
    }
   ],
   "source": [
    "person = {\n",
    "    \"name\": \"John\",\n",
    "    \"age\": 25,\n",
    "    \"city\": \"New York\"\n",
    "}\n",
    "\n",
    "print(\"Name:\", person[\"name\"])              # Access value\n",
    "\n",
    "person[\"email\"] = \"john@email.com\"          # Add key-value\n",
    "print(\"After adding email:\", person)\n",
    "\n",
    "del person[\"age\"]                           # Remove key-value\n",
    "print(\"After deleting age:\", person)\n",
    "\n",
    "print(\"Keys:\", person.keys())               # Get all keys\n",
    "print(\"Values:\", person.values())           # Get all values"
   ]
  },
  {
   "cell_type": "markdown",
   "metadata": {},
   "source": [
    "### 4.5. Tuples"
   ]
  },
  {
   "cell_type": "code",
   "execution_count": 14,
   "metadata": {},
   "outputs": [
    {
     "name": "stdout",
     "output_type": "stream",
     "text": [
      "First coordinate: 10\n",
      "Tuple length: 2\n",
      "x: 10, y: 20\n"
     ]
    }
   ],
   "source": [
    "coordinates = (10, 20)             # Immutable\n",
    "print(\"First coordinate:\", coordinates[0])   # Access item\n",
    "print(\"Tuple length:\", len(coordinates))    # Tuple length\n",
    "\n",
    "# Tuple unpacking\n",
    "x, y = coordinates\n",
    "print(f\"x: {x}, y: {y}\")"
   ]
  },
  {
   "cell_type": "markdown",
   "metadata": {},
   "source": [
    "### 4.6. Sets"
   ]
  },
  {
   "cell_type": "code",
   "execution_count": 18,
   "metadata": {},
   "outputs": [
    {
     "name": "stdout",
     "output_type": "stream",
     "text": [
      "Original set: {1, 2, 3, 4, 5}\n",
      "After adding 6: {1, 2, 3, 4, 5, 6}\n",
      "After removing 2: {1, 3, 4, 5, 6}\n",
      "Is 1 in set? True\n"
     ]
    }
   ],
   "source": [
    "numbers = {1, 2, 3, 4, 4, 5}\n",
    "print(\"Original set:\", numbers) # without duplicates\n",
    "\n",
    "numbers.add(6)                     # Add item\n",
    "print(\"After adding 6:\", numbers)\n",
    "\n",
    "numbers.remove(2)                  # Remove item\n",
    "print(\"After removing 2:\", numbers)\n",
    "\n",
    "print(\"Is 1 in set?\", 1 in numbers)  # Check membership"
   ]
  },
  {
   "cell_type": "markdown",
   "metadata": {},
   "source": [
    "### 4.7. Other Types"
   ]
  },
  {
   "cell_type": "code",
   "execution_count": 19,
   "metadata": {},
   "outputs": [
    {
     "name": "stdout",
     "output_type": "stream",
     "text": [
      "None value: None type: <class 'NoneType'>\n",
      "Valid: True, Active: False\n"
     ]
    }
   ],
   "source": [
    "# None type\n",
    "empty = None\n",
    "print(\"None value:\", empty, \"type:\", type(empty))\n",
    "\n",
    "# Boolean type\n",
    "is_valid = True\n",
    "is_active = False\n",
    "print(f\"Valid: {is_valid}, Active: {is_active}\")"
   ]
  },
  {
   "cell_type": "markdown",
   "metadata": {},
   "source": [
    "## 5. Operators"
   ]
  },
  {
   "cell_type": "markdown",
   "metadata": {},
   "source": [
    "### 5.1. Arithmetic Operators"
   ]
  },
  {
   "cell_type": "code",
   "execution_count": 20,
   "metadata": {},
   "outputs": [
    {
     "name": "stdout",
     "output_type": "stream",
     "text": [
      "Addition: 13\n",
      "Subtraction: 7\n",
      "Multiplication: 30\n",
      "Division: 3.3333333333333335\n",
      "Floor division: 3\n",
      "Modulus: 1\n",
      "Exponentiation: 1000\n"
     ]
    }
   ],
   "source": [
    "x = 10\n",
    "y = 3\n",
    "\n",
    "print(f\"Addition: {x + y}\")        # 13\n",
    "print(f\"Subtraction: {x - y}\")     # 7\n",
    "print(f\"Multiplication: {x * y}\")  # 30\n",
    "print(f\"Division: {x / y}\")        # 3.333...\n",
    "print(f\"Floor division: {x // y}\") # 3\n",
    "print(f\"Modulus: {x % y}\")        # 1\n",
    "print(f\"Exponentiation: {x ** y}\") # 1000"
   ]
  },
  {
   "cell_type": "markdown",
   "metadata": {},
   "source": [
    "### 5.2. Relational Operators"
   ]
  },
  {
   "cell_type": "code",
   "execution_count": 21,
   "metadata": {},
   "outputs": [
    {
     "name": "stdout",
     "output_type": "stream",
     "text": [
      "Greater than: True\n",
      "Less than: False\n",
      "Greater or equal: True\n",
      "Less or equal: False\n",
      "Equal to: False\n",
      "Not equal to: True\n"
     ]
    }
   ],
   "source": [
    "print(f\"Greater than: {x > y}\")           # True\n",
    "print(f\"Less than: {x < y}\")              # False\n",
    "print(f\"Greater or equal: {x >= y}\")      # True\n",
    "print(f\"Less or equal: {x <= y}\")         # False\n",
    "print(f\"Equal to: {x == y}\")              # False\n",
    "print(f\"Not equal to: {x != y}\")          # True"
   ]
  },
  {
   "cell_type": "markdown",
   "metadata": {},
   "source": [
    "### 5.3. Bitwise Operators"
   ]
  },
  {
   "cell_type": "code",
   "execution_count": 27,
   "metadata": {},
   "outputs": [
    {
     "name": "stdout",
     "output_type": "stream",
     "text": [
      "AND: 0\n",
      "OR: 11\n",
      "XOR: 11\n",
      "NOT: -2\n",
      "Left shift: 4\n",
      "Right shift: 0\n"
     ]
    }
   ],
   "source": [
    "x = 1\n",
    "y = 10\n",
    "print(f\"AND: {x & y}\")            # Bitwise AND\n",
    "print(f\"OR: {x | y}\")             # Bitwise OR\n",
    "print(f\"XOR: {x ^ y}\")            # Bitwise XOR\n",
    "print(f\"NOT: {~x}\")               # Bitwise NOT\n",
    "print(f\"Left shift: {x << 2}\")    # Left shift\n",
    "print(f\"Right shift: {x >> 2}\")   # Right shift"
   ]
  },
  {
   "cell_type": "markdown",
   "metadata": {},
   "source": [
    "### 5.4. Logical Operators"
   ]
  },
  {
   "cell_type": "code",
   "execution_count": 28,
   "metadata": {},
   "outputs": [
    {
     "name": "stdout",
     "output_type": "stream",
     "text": [
      "AND: False\n",
      "OR: True\n",
      "NOT: False\n"
     ]
    }
   ],
   "source": [
    "a = True\n",
    "b = False\n",
    "\n",
    "print(f\"AND: {a and b}\")          # Logical AND\n",
    "print(f\"OR: {a or b}\")            # Logical OR\n",
    "print(f\"NOT: {not a}\")            # Logical NOT"
   ]
  },
  {
   "cell_type": "markdown",
   "metadata": {},
   "source": [
    "## 6. Type Conversion"
   ]
  },
  {
   "cell_type": "code",
   "execution_count": 30,
   "metadata": {},
   "outputs": [
    {
     "name": "stdout",
     "output_type": "stream",
     "text": [
      "{'a': 1, 'b': 2, 'c': 3}\n"
     ]
    }
   ],
   "source": [
    "# String to Number\n",
    "x = int(\"10\")           # String to Integer\n",
    "y = float(\"3.14\")       # String to Float\n",
    "\n",
    "# Number to String\n",
    "text = str(10)          # Number to String\n",
    "\n",
    "# List/Tuple/Set Conversion\n",
    "my_list = [1, 2, 3]\n",
    "my_tuple = tuple(my_list)    # List to Tuple\n",
    "my_set = set(my_list)        # List to Set\n",
    "\n",
    "# Dictionary Conversion\n",
    "keys = [\"a\", \"b\", \"c\"]\n",
    "values = [1, 2, 3]\n",
    "my_dict = dict(zip(keys, values))  # Lists to Dictionary\n",
    "print(my_dict)"
   ]
  }
 ],
 "metadata": {
  "kernelspec": {
   "display_name": "Python 3",
   "language": "python",
   "name": "python3"
  },
  "language_info": {
   "codemirror_mode": {
    "name": "ipython",
    "version": 3
   },
   "file_extension": ".py",
   "mimetype": "text/x-python",
   "name": "python",
   "nbconvert_exporter": "python",
   "pygments_lexer": "ipython3",
   "version": "3.12.6"
  }
 },
 "nbformat": 4,
 "nbformat_minor": 2
}
