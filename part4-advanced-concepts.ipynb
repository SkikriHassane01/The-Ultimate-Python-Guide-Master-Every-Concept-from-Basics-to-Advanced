{
 "cells": [
  {
   "cell_type": "markdown",
   "metadata": {},
   "source": [
    "# Python Programming Guide - Part 4: Advanced Concepts\n",
    "\n",
    "This notebook covers advanced Python programming concepts."
   ]
  },
  {
   "cell_type": "markdown",
   "metadata": {},
   "source": [
    "### Part 4: Advanced Concepts\n",
    "- [1. Object-Oriented Programming](#1-object-oriented-programming)\n",
    "  - [1.1. Classes and Objects](#11-classes-and-objects)\n",
    "  - [1.2. Inheritance](#12-inheritance)\n",
    "  - [1.3. Encapsulation](#13-encapsulation)\n",
    "  - [1.4. Polymorphism](#14-polymorphism)\n",
    "  - [1.5. Class Methods and Properties](#15-class-methods-and-properties)\n",
    "- [2. Exception Handling](#2-exception-handling)\n",
    "  - [2.1. Try-Except Basics](#21-try-except-basics)\n",
    "  - [2.2. Exception Types](#22-exception-types)\n",
    "  - [2.3. Custom Exceptions](#23-custom-exceptions)\n",
    "  - [2.4. Context Managers](#24-context-managers)\n",
    "- [3. Regular Expressions](#3-regular-expressions)\n",
    "  - [3.1. Basic Patterns](#31-basic-patterns)\n",
    "  - [3.2. Pattern Syntax](#32-pattern-syntax)\n",
    "  - [3.3. RegEx Functions](#33-regex-functions)\n",
    "  - [3.4. Common Use Cases](#34-common-use-cases)\n",
    "- [4. Modules and Packages](#4-modules-and-packages)\n",
    "  - [4.1. Module Basics](#41-module-basics)\n",
    "  - [4.2. Package Structure](#42-package-structure)\n",
    "  - [4.3. Package Usage](#43-package-usage)\n",
    "  - [4.4. Standard Library](#44-standard-library)\n",
    "- [5. Magic Methods](#5-magic-methods)\n",
    "  - [5.1. Basic Magic Methods](#51-basic-magic-methods)\n",
    "  - [5.2. Comparison Methods](#52-comparison-methods)\n",
    "  - [5.3. Arithmetic Methods](#53-arithmetic-methods)\n",
    "  - [5.4. Container Methods](#54-container-methods)"
   ]
  },
  {
   "cell_type": "markdown",
   "metadata": {},
   "source": [
    "## 1. Object-Oriented Programming"
   ]
  },
  {
   "cell_type": "code",
   "execution_count": 18,
   "metadata": {},
   "outputs": [
    {
     "name": "stdout",
     "output_type": "stream",
     "text": [
      "hassane\n",
      "22\n",
      "Anonymous\n",
      "20\n"
     ]
    }
   ],
   "source": [
    "# Class: A blueprint for creating objects with shared attributes and behaviors.\n",
    "\n",
    "class Person:  \n",
    "    # Constructor: Initializes instance variables (name and age) when an object is created.\n",
    "    def __init__(self, name, age):  \n",
    "        self.name = name  # Instance variable storing the person's name.\n",
    "        self.age = age    # Instance variable storing the person's age.\n",
    "    \n",
    "    # Instance method: Can be called on an instance to perform actions.\n",
    "    def introduce(self):  \n",
    "        return f\"Hi, I'm {self.name}\"  # Returns a greeting with the person's name.\n",
    "    \n",
    "    # Class method: Works at the class level and can create an object without specific instance data.\n",
    "    @classmethod\n",
    "    def create_anonymous(cls):  \n",
    "        return cls(\"Anonymous\", 20)  # Returns a new instance with default values.\n",
    "\n",
    "# Creating objects (instances of the Person class).\n",
    "person1 = Person(\"hassane\", 22)  # Creates an instance with name \"hassane\" and age 22.\n",
    "person2 = person1.create_anonymous()   # Creates an instance with name \"Anonymous\" and age 20.\n",
    "print(person1.name)\n",
    "print(person1.age)\n",
    "\n",
    "print(person2.name)\n",
    "print(person2.age)\n"
   ]
  },
  {
   "cell_type": "code",
   "execution_count": 19,
   "metadata": {},
   "outputs": [
    {
     "name": "stdout",
     "output_type": "stream",
     "text": [
      "hassane\n",
      "22\n",
      "Hi, I'm hassane, employee 1234\n"
     ]
    }
   ],
   "source": [
    "# Inheritance: Allows a class to inherit properties and methods from another class.\n",
    "\n",
    "class Employee(Person):  # Employee class inherits from Person\n",
    "    def __init__(self, name, age, employee_id):  \n",
    "        super().__init__(name, age)  # Calls the parent class (Person) constructor.\n",
    "        self.employee_id = employee_id  # New attribute specific to Employee.\n",
    "    \n",
    "    # Method overriding: Modifies the parent class's `introduce` method.\n",
    "    def introduce(self):  \n",
    "        return f\"Hi, I'm {self.name}, employee {self.employee_id}\"  \n",
    "    \n",
    "employee1 = Employee('hassane', 22, 1234)\n",
    "print(employee1.name)  # Output: hassane\n",
    "print(employee1.age)  # Output: 22\n",
    "print(employee1.introduce())  # Output: Hi, I'm hassane, employee 1234"
   ]
  },
  {
   "cell_type": "code",
   "execution_count": 42,
   "metadata": {},
   "outputs": [
    {
     "name": "stdout",
     "output_type": "stream",
     "text": [
      "2000\n",
      "Savings\n"
     ]
    }
   ],
   "source": [
    "\n",
    "# Encapsulation: Restricting direct access to data and methods in a class.\n",
    "\n",
    "class BankAccount:  \n",
    "    def __init__(self):  \n",
    "        self.__balance = 0  # Private variable: Cannot be accessed directly outside the class.\n",
    "        self._type = \"Savings\"  # Protected variable: Can be accessed in subclasses.\n",
    "    \n",
    "    # Getter method: Provides controlled access to the private variable.\n",
    "    @property\n",
    "    def balance(self):  \n",
    "        return self.__balance  \n",
    "    \n",
    "    # Setter method: Allows modifying the private variable with validation.\n",
    "    @balance.setter\n",
    "    def balance(self, amount):  \n",
    "        if amount >= 0:  \n",
    "            self.__balance = amount  \n",
    "        else:  \n",
    "            raise ValueError(\"Balance cannot be negative\")  \n",
    "\n",
    "account = BankAccount()\n",
    "account.balance = 2000\n",
    "print(account.balance)  # Output: 2000\n",
    "print(account._type)  # Output: Savings\n"
   ]
  },
  {
   "cell_type": "code",
   "execution_count": 43,
   "metadata": {},
   "outputs": [
    {
     "name": "stdout",
     "output_type": "stream",
     "text": [
      "Meow!\n",
      "Woof!\n"
     ]
    }
   ],
   "source": [
    "# Polymorphism: Different classes implementing the same method in different ways.\n",
    "\n",
    "class Animal:  \n",
    "    def speak(self):  \n",
    "        pass  # Abstract method, meant to be overridden.\n",
    "\n",
    "class Cat(Animal):  \n",
    "    def speak(self):  \n",
    "        return \"Meow!\"  # Cat's implementation of speak()\n",
    "\n",
    "class Dog(Animal):  \n",
    "    def speak(self):  \n",
    "        return \"Woof!\"  # Dog's implementation of speak()\n",
    "\n",
    "# Polymorphic function: Accepts any object that has a `speak()` method.\n",
    "def animal_sound(animal):  \n",
    "    return animal.speak()  \n",
    "\n",
    "# Using polymorphism\n",
    "cat = Cat()  \n",
    "dog = Dog()  \n",
    "print(animal_sound(cat))  # Output: Meow!  \n",
    "print(animal_sound(dog))  # Output: Woof!  "
   ]
  },
  {
   "cell_type": "code",
   "execution_count": 44,
   "metadata": {},
   "outputs": [
    {
     "name": "stdout",
     "output_type": "stream",
     "text": [
      "Celsius: 25°C\n",
      "Fahrenheit: 77.0°F\n",
      "\n",
      "Converted from 98.6°F: 37.0°C\n"
     ]
    }
   ],
   "source": [
    "# The Temperature class represents temperature in Celsius and provides conversions.\n",
    "\n",
    "class Temperature:  \n",
    "    def __init__(self, celsius):  \n",
    "        self._celsius = celsius  # Protected attribute storing temperature in Celsius.\n",
    "    \n",
    "    # @property: Defines a read-only property that behaves like an attribute.\n",
    "    @property  \n",
    "    def fahrenheit(self):  \n",
    "        return (self._celsius * 9/5) + 32  # Converts Celsius to Fahrenheit.\n",
    "    \n",
    "    # @classmethod: Defines a method that operates on the class rather than an instance.\n",
    "    @classmethod  \n",
    "    def from_fahrenheit(cls, fahrenheit):  \n",
    "        celsius = (fahrenheit - 32) * 5/9  # Converts Fahrenheit to Celsius.\n",
    "        return cls(celsius)  # Creates a new Temperature instance with the converted value.\n",
    "    \n",
    "    # @staticmethod: Defines a method that doesn’t depend on the instance or class.\n",
    "    @staticmethod  \n",
    "    def is_valid_temperature(temp):  \n",
    "        return temp >= -273.15  # Checks if a given temperature is above absolute zero.\n",
    "\n",
    "# Creating a Temperature instance with 25°C.\n",
    "temp = Temperature(25)  \n",
    "print(f\"Celsius: {temp._celsius}°C\")  # Output: Celsius: 25°C\n",
    "print(f\"Fahrenheit: {temp.fahrenheit}°F\")  # Output: Fahrenheit: 77.0°F\n",
    "\n",
    "# Creating a Temperature instance from Fahrenheit using the class method.\n",
    "temp2 = Temperature.from_fahrenheit(98.6)  \n",
    "print(f\"\\nConverted from 98.6°F: {temp2._celsius:.1f}°C\")  # Output: Converted from 98.6°F: 37.0°C\n"
   ]
  },
  {
   "cell_type": "markdown",
   "metadata": {},
   "source": [
    "## 2. Exception Handling"
   ]
  },
  {
   "cell_type": "code",
   "execution_count": 45,
   "metadata": {},
   "outputs": [
    {
     "name": "stdout",
     "output_type": "stream",
     "text": [
      "Division operation completed\n",
      "5.0\n",
      "Division operation completed\n",
      "Error: Division by zero\n",
      "Division operation completed\n",
      "Error: Invalid types\n"
     ]
    }
   ],
   "source": [
    "# Basic Exception Handling\n",
    "def divide_numbers(a, b):\n",
    "    try:\n",
    "        result = a / b\n",
    "        return result\n",
    "    except ZeroDivisionError:\n",
    "        return \"Error: Division by zero\"\n",
    "    except TypeError:\n",
    "        return \"Error: Invalid types\"\n",
    "    finally:\n",
    "        print(\"Division operation completed\")\n",
    "\n",
    "print(divide_numbers(10, 2))\n",
    "print(divide_numbers(10, 0))\n",
    "print(divide_numbers(10, \"2\"))"
   ]
  },
  {
   "cell_type": "code",
   "execution_count": 53,
   "metadata": {},
   "outputs": [
    {
     "name": "stdout",
     "output_type": "stream",
     "text": [
      "Age 25 is valid\n",
      "Validation error: Age cannot be negative\n",
      "Validation error: Age is too high\n"
     ]
    }
   ],
   "source": [
    "# Custom Exceptions\n",
    "class AgeError(Exception):\n",
    "    def __init__(self, message):\n",
    "        self.message = message\n",
    "        super().__init__(self.message)\n",
    "\n",
    "def validate_age(age):\n",
    "    if age < 0:\n",
    "        raise AgeError(\"Age cannot be negative\")\n",
    "    if age > 150:\n",
    "        raise AgeError(\"Age is too high\")\n",
    "    return f\"Age {age} is valid\"\n",
    "\n",
    "try:\n",
    "    print(validate_age(25))\n",
    "    print(validate_age(-5))\n",
    "    \n",
    "except AgeError as e:\n",
    "    print(f\"Validation error: {e}\")\n",
    "    \n",
    "    \n",
    "try:\n",
    "    print(validate_age(200))\n",
    "except AgeError as e:\n",
    "    print(f\"Validation error: {e}\")"
   ]
  },
  {
   "cell_type": "code",
   "execution_count": 57,
   "metadata": {},
   "outputs": [
    {
     "name": "stdout",
     "output_type": "stream",
     "text": [
      "5.0\n",
      "Assertion error: Denominator cannot be zero!\n"
     ]
    }
   ],
   "source": [
    "# Assertion: A debugging tool to check if a condition is met.\n",
    "def divide(a, b):\n",
    "    assert b != 0, \"Denominator cannot be zero!\"  # Ensures denominator is not zero.\n",
    "    return a / b\n",
    "\n",
    "print(divide(10, 2))  # Output: 5.0\n",
    "try:\n",
    "    print(divide(10, 0))  # AssertionError: Denominator cannot be zero!\n",
    "except AssertionError as e:\n",
    "    print(f\"Assertion error: {e}\")"
   ]
  },
  {
   "cell_type": "code",
   "execution_count": 56,
   "metadata": {},
   "outputs": [
    {
     "name": "stdout",
     "output_type": "stream",
     "text": [
      "Error: Number must be non-negative\n"
     ]
    }
   ],
   "source": [
    "def calculate_square_root(n):\n",
    "    assert n >= 0, \"Number must be non-negative\"\n",
    "    return n ** 0.5\n",
    "\n",
    "# Using with numbers\n",
    "try:\n",
    "    result = calculate_square_root(-4)\n",
    "except AssertionError as e:\n",
    "    print(f\"Error: {e}\")  # Error: Number must be non-negative"
   ]
  },
  {
   "cell_type": "markdown",
   "metadata": {},
   "source": [
    "the opposite "
   ]
  },
  {
   "cell_type": "markdown",
   "metadata": {},
   "source": [
    "## 3. Regular Expressions"
   ]
  },
  {
   "cell_type": "code",
   "execution_count": 82,
   "metadata": {},
   "outputs": [
    {
     "name": "stdout",
     "output_type": "stream",
     "text": [
      "Found emails: ['info@example.com', 'support@example.com', 'skikri01_hassane_data@---.com']\n",
      "\n",
      "Area code: 123\n",
      "Number: 456-7890\n",
      "\n",
      "Modified text: Python3 is great and Python3 is powerful\n"
     ]
    }
   ],
   "source": [
    "import re\n",
    "\n",
    "# Basic Pattern Matching\n",
    "text = \"Contact us at: info@example.com, support@example.com, skikri01_hassane_data@---.com\"\n",
    "email_pattern = r\"[a-zA-Z0-9._%+-]+@[a-zA-Z0-9.-]+\\.[a-zA-Z]{2,}\"\n",
    "emails = re.findall(email_pattern, text)\n",
    "print(\"Found emails:\", emails)\n",
    "\n",
    "# Pattern with Groups\n",
    "phone = \"Call us: 123-456.7890\"\n",
    "pattern = r\"(\\d{3})[-.]?(\\d{3})[-.]?(\\d{4})\"\n",
    "phone_pattern_regex = re.compile(pattern)\n",
    "match = phone_pattern_regex.search(phone)\n",
    "if match:\n",
    "    print(f\"\\nArea code: {match.group(1)}\")\n",
    "    print(f\"Number: {match.group(2)}-{match.group(3)}\")\n",
    "\n",
    "# String Replacement\n",
    "text = \"Python is great and Python is powerful\"\n",
    "new_text = re.sub(r'Python', 'Python3', text)\n",
    "print(f\"\\nModified text: {new_text}\")"
   ]
  },
  {
   "cell_type": "markdown",
   "metadata": {},
   "source": [
    "## 4. Modules and Packages"
   ]
  },
  {
   "cell_type": "code",
   "execution_count": null,
   "metadata": {},
   "outputs": [],
   "source": [
    "# Using Standard Library Modules\n",
    "import datetime\n",
    "import random\n",
    "import math\n",
    "\n",
    "print(f\"Current date: {datetime.date.today()}\")\n",
    "print(f\"Random number: {random.randint(1, 100)}\")\n",
    "print(f\"Square root of 16: {math.sqrt(16)}\")\n",
    "\n",
    "# Creating a Module (in a separate file)\n",
    "'''\n",
    "# calculator.py\n",
    "def add(a, b):\n",
    "    return a + b\n",
    "\n",
    "def subtract(a, b):\n",
    "    return a - b\n",
    "'''\n",
    "\n",
    "# Using your module\n",
    "# import calculator\n",
    "# result = calculator.add(5, 3)"
   ]
  },
  {
   "cell_type": "markdown",
   "metadata": {},
   "source": [
    "## 5. Magic Methods"
   ]
  },
  {
   "cell_type": "code",
   "execution_count": null,
   "metadata": {},
   "outputs": [],
   "source": [
    "class Vector:\n",
    "    def __init__(self, x, y):\n",
    "        self.x = x\n",
    "        self.y = y\n",
    "    \n",
    "    def __str__(self):\n",
    "        return f\"Vector({self.x}, {self.y})\"\n",
    "    \n",
    "    def __add__(self, other):\n",
    "        return Vector(self.x + other.x, self.y + other.y)\n",
    "    \n",
    "    def __len__(self):\n",
    "        return int(math.sqrt(self.x**2 + self.y**2))\n",
    "\n",
    "# Using magic methods\n",
    "v1 = Vector(2, 3)\n",
    "v2 = Vector(3, 4)\n",
    "\n",
    "print(f\"v1: {v1}\")\n",
    "print(f\"v2: {v2}\")\n",
    "print(f\"v1 + v2: {v1 + v2}\")\n",
    "print(f\"Length of v1: {len(v1)}\")"
   ]
  }
 ],
 "metadata": {
  "kernelspec": {
   "display_name": "Python 3",
   "language": "python",
   "name": "python3"
  },
  "language_info": {
   "codemirror_mode": {
    "name": "ipython",
    "version": 3
   },
   "file_extension": ".py",
   "mimetype": "text/x-python",
   "name": "python",
   "nbconvert_exporter": "python",
   "pygments_lexer": "ipython3",
   "version": "3.12.6"
  }
 },
 "nbformat": 4,
 "nbformat_minor": 4
}
